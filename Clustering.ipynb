{
 "cells": [
  {
   "cell_type": "markdown",
   "id": "740e30fd-c7e9-41eb-b3cf-78422a20cf6b",
   "metadata": {},
   "source": [
    "analisis de datos"
   ]
  },
  {
   "cell_type": "markdown",
   "id": "6249491a-efca-4bb8-9415-05740efd5520",
   "metadata": {},
   "source": [
    "Grupo: 202016908_81"
   ]
  },
  {
   "cell_type": "markdown",
   "id": "6ee6adc4-edcc-44dc-9786-75c5d48ce7b4",
   "metadata": {},
   "source": [
    "Tarea 4 algoritmos de aprendizaje no supervisado"
   ]
  },
  {
   "cell_type": "markdown",
   "id": "91487e2d-fa6c-4615-88eb-89701d1928c5",
   "metadata": {},
   "source": [
    "Presentado por: Leidy Valentina Garcia Carrillo"
   ]
  },
  {
   "cell_type": "markdown",
   "id": "00178523-25b9-4eb0-94e9-21d4470c554c",
   "metadata": {},
   "source": [
    "Tutora:Sandra M. Patiño"
   ]
  },
  {
   "cell_type": "markdown",
   "id": "7ebd5036-d848-4e0c-a2c9-4cc5175e31b5",
   "metadata": {},
   "source": [
    "Universidad Abierta y a Distancia- UNAD"
   ]
  },
  {
   "cell_type": "markdown",
   "id": "49e3c04c-545d-4b68-9e68-ea256fe25272",
   "metadata": {},
   "source": [
    "Noviembre 2024"
   ]
  },
  {
   "cell_type": "markdown",
   "id": "88653e98-da51-46a1-9729-37e3c2c48080",
   "metadata": {},
   "source": [
    "1.Realizar un análisis exploratorio de los datos para identificar relaciones entre variables, valores atípicos, tendencias, etc"
   ]
  },
  {
   "cell_type": "code",
   "execution_count": 11,
   "id": "071d197c-b08e-4ce0-91a3-9c10161670df",
   "metadata": {},
   "outputs": [],
   "source": [
    "#Cargar las librerias "
   ]
  },
  {
   "cell_type": "code",
   "execution_count": 13,
   "id": "b5513ced-d4e9-4167-a09c-938602f6ceb9",
   "metadata": {},
   "outputs": [],
   "source": [
    "import pandas as pd #Manejo y analisis de estructura de datos\n",
    "import pandas as pd #Manejo y analisis de estructura de datos"
   ]
  },
  {
   "cell_type": "code",
   "execution_count": 15,
   "id": "398a5937-21f4-4f09-8563-3ab0e2f193bf",
   "metadata": {},
   "outputs": [],
   "source": [
    "import seaborn as sns #Creación de Graficos \n",
    "import matplotlib.pyplot as plt #para crear gráficos en dos dimensiones\n",
    "import plotly.graph_objs as go #para crear gráficos en tres dimensiones\n",
    "import plotly.express as px #creacion de gráficos en tres dimensiones"
   ]
  },
  {
   "cell_type": "code",
   "execution_count": 17,
   "id": "3ddacd3e-0ae7-464a-b82d-859d0401668a",
   "metadata": {},
   "outputs": [],
   "source": [
    "#librerias para implementar modelo hierarchical Clustering"
   ]
  },
  {
   "cell_type": "code",
   "execution_count": 19,
   "id": "b2e7df17-5e12-4e87-9d12-784a2e93846b",
   "metadata": {},
   "outputs": [],
   "source": [
    "from sklearn.cluster import AgglomerativeClustering #algoritmos de agrupamiento o clustering, para dividir datos en grupos\n",
    "from sklearn.preprocessing import StandardScaler #escalar o normalizar datos\n",
    "from scipy.cluster.hierarchy import linkage, dendrogram #herramientas para realizar agrupamientos jerárquco y visualización de dendrogramas"
   ]
  },
  {
   "cell_type": "code",
   "execution_count": 21,
   "id": "34a2c9ae-1d4f-4b0f-8502-bf079d3d642a",
   "metadata": {},
   "outputs": [],
   "source": [
    "#librerias para evaluar el modelo"
   ]
  },
  {
   "cell_type": "code",
   "execution_count": 23,
   "id": "37b26ffb-9ed1-449f-81cd-9ff6c2c00173",
   "metadata": {},
   "outputs": [],
   "source": [
    "from sklearn.metrics import silhouette_score, calinski_harabasz_score, davies_bouldin_score"
   ]
  },
  {
   "cell_type": "code",
   "execution_count": 25,
   "id": "68bea3f7-ca16-49a6-9de7-d23c396030e6",
   "metadata": {},
   "outputs": [],
   "source": [
    "#libreria para evitar la perdida de memoria en windows"
   ]
  },
  {
   "cell_type": "code",
   "execution_count": 27,
   "id": "8a54d422-8a82-4bbb-9ed7-bca4e39f0585",
   "metadata": {},
   "outputs": [
    {
     "data": {
      "text/html": [
       "<div>\n",
       "<style scoped>\n",
       "    .dataframe tbody tr th:only-of-type {\n",
       "        vertical-align: middle;\n",
       "    }\n",
       "\n",
       "    .dataframe tbody tr th {\n",
       "        vertical-align: top;\n",
       "    }\n",
       "\n",
       "    .dataframe thead th {\n",
       "        text-align: right;\n",
       "    }\n",
       "</style>\n",
       "<table border=\"1\" class=\"dataframe\">\n",
       "  <thead>\n",
       "    <tr style=\"text-align: right;\">\n",
       "      <th></th>\n",
       "      <th>CustomerID</th>\n",
       "      <th>Gender</th>\n",
       "      <th>Age</th>\n",
       "      <th>Annual Income (k$)</th>\n",
       "      <th>Spending Score (1-100)</th>\n",
       "    </tr>\n",
       "  </thead>\n",
       "  <tbody>\n",
       "    <tr>\n",
       "      <th>0</th>\n",
       "      <td>1</td>\n",
       "      <td>Male</td>\n",
       "      <td>19</td>\n",
       "      <td>15</td>\n",
       "      <td>39</td>\n",
       "    </tr>\n",
       "    <tr>\n",
       "      <th>1</th>\n",
       "      <td>2</td>\n",
       "      <td>Male</td>\n",
       "      <td>21</td>\n",
       "      <td>15</td>\n",
       "      <td>81</td>\n",
       "    </tr>\n",
       "    <tr>\n",
       "      <th>2</th>\n",
       "      <td>3</td>\n",
       "      <td>Female</td>\n",
       "      <td>20</td>\n",
       "      <td>16</td>\n",
       "      <td>6</td>\n",
       "    </tr>\n",
       "    <tr>\n",
       "      <th>3</th>\n",
       "      <td>4</td>\n",
       "      <td>Female</td>\n",
       "      <td>23</td>\n",
       "      <td>16</td>\n",
       "      <td>77</td>\n",
       "    </tr>\n",
       "    <tr>\n",
       "      <th>4</th>\n",
       "      <td>5</td>\n",
       "      <td>Female</td>\n",
       "      <td>31</td>\n",
       "      <td>17</td>\n",
       "      <td>40</td>\n",
       "    </tr>\n",
       "    <tr>\n",
       "      <th>5</th>\n",
       "      <td>6</td>\n",
       "      <td>Female</td>\n",
       "      <td>22</td>\n",
       "      <td>17</td>\n",
       "      <td>76</td>\n",
       "    </tr>\n",
       "    <tr>\n",
       "      <th>6</th>\n",
       "      <td>7</td>\n",
       "      <td>Female</td>\n",
       "      <td>35</td>\n",
       "      <td>18</td>\n",
       "      <td>6</td>\n",
       "    </tr>\n",
       "    <tr>\n",
       "      <th>7</th>\n",
       "      <td>8</td>\n",
       "      <td>Female</td>\n",
       "      <td>23</td>\n",
       "      <td>18</td>\n",
       "      <td>94</td>\n",
       "    </tr>\n",
       "    <tr>\n",
       "      <th>8</th>\n",
       "      <td>9</td>\n",
       "      <td>Male</td>\n",
       "      <td>64</td>\n",
       "      <td>19</td>\n",
       "      <td>3</td>\n",
       "    </tr>\n",
       "    <tr>\n",
       "      <th>9</th>\n",
       "      <td>10</td>\n",
       "      <td>Female</td>\n",
       "      <td>30</td>\n",
       "      <td>19</td>\n",
       "      <td>72</td>\n",
       "    </tr>\n",
       "    <tr>\n",
       "      <th>10</th>\n",
       "      <td>11</td>\n",
       "      <td>Male</td>\n",
       "      <td>67</td>\n",
       "      <td>19</td>\n",
       "      <td>14</td>\n",
       "    </tr>\n",
       "    <tr>\n",
       "      <th>11</th>\n",
       "      <td>12</td>\n",
       "      <td>Female</td>\n",
       "      <td>35</td>\n",
       "      <td>19</td>\n",
       "      <td>99</td>\n",
       "    </tr>\n",
       "    <tr>\n",
       "      <th>12</th>\n",
       "      <td>13</td>\n",
       "      <td>Female</td>\n",
       "      <td>58</td>\n",
       "      <td>20</td>\n",
       "      <td>15</td>\n",
       "    </tr>\n",
       "    <tr>\n",
       "      <th>13</th>\n",
       "      <td>14</td>\n",
       "      <td>Female</td>\n",
       "      <td>24</td>\n",
       "      <td>20</td>\n",
       "      <td>77</td>\n",
       "    </tr>\n",
       "    <tr>\n",
       "      <th>14</th>\n",
       "      <td>15</td>\n",
       "      <td>Male</td>\n",
       "      <td>37</td>\n",
       "      <td>20</td>\n",
       "      <td>13</td>\n",
       "    </tr>\n",
       "    <tr>\n",
       "      <th>15</th>\n",
       "      <td>16</td>\n",
       "      <td>Male</td>\n",
       "      <td>22</td>\n",
       "      <td>20</td>\n",
       "      <td>79</td>\n",
       "    </tr>\n",
       "    <tr>\n",
       "      <th>16</th>\n",
       "      <td>17</td>\n",
       "      <td>Female</td>\n",
       "      <td>35</td>\n",
       "      <td>21</td>\n",
       "      <td>35</td>\n",
       "    </tr>\n",
       "    <tr>\n",
       "      <th>17</th>\n",
       "      <td>18</td>\n",
       "      <td>Male</td>\n",
       "      <td>20</td>\n",
       "      <td>21</td>\n",
       "      <td>66</td>\n",
       "    </tr>\n",
       "    <tr>\n",
       "      <th>18</th>\n",
       "      <td>19</td>\n",
       "      <td>Male</td>\n",
       "      <td>52</td>\n",
       "      <td>23</td>\n",
       "      <td>29</td>\n",
       "    </tr>\n",
       "    <tr>\n",
       "      <th>19</th>\n",
       "      <td>20</td>\n",
       "      <td>Female</td>\n",
       "      <td>35</td>\n",
       "      <td>23</td>\n",
       "      <td>98</td>\n",
       "    </tr>\n",
       "  </tbody>\n",
       "</table>\n",
       "</div>"
      ],
      "text/plain": [
       "    CustomerID  Gender  Age  Annual Income (k$)  Spending Score (1-100)\n",
       "0            1    Male   19                  15                      39\n",
       "1            2    Male   21                  15                      81\n",
       "2            3  Female   20                  16                       6\n",
       "3            4  Female   23                  16                      77\n",
       "4            5  Female   31                  17                      40\n",
       "5            6  Female   22                  17                      76\n",
       "6            7  Female   35                  18                       6\n",
       "7            8  Female   23                  18                      94\n",
       "8            9    Male   64                  19                       3\n",
       "9           10  Female   30                  19                      72\n",
       "10          11    Male   67                  19                      14\n",
       "11          12  Female   35                  19                      99\n",
       "12          13  Female   58                  20                      15\n",
       "13          14  Female   24                  20                      77\n",
       "14          15    Male   37                  20                      13\n",
       "15          16    Male   22                  20                      79\n",
       "16          17  Female   35                  21                      35\n",
       "17          18    Male   20                  21                      66\n",
       "18          19    Male   52                  23                      29\n",
       "19          20  Female   35                  23                      98"
      ]
     },
     "execution_count": 27,
     "metadata": {},
     "output_type": "execute_result"
    }
   ],
   "source": [
    "import warnings\n",
    "warnings.filterwarnings('ignore')\n",
    "#cargar el conjunto de datos en la variable data\n",
    "data = pd.read_csv(\"Mall_Customers.csv\")\n",
    "data.head (20)"
   ]
  },
  {
   "cell_type": "code",
   "execution_count": 29,
   "id": "a1399767-aff4-4320-ba05-dda18df76535",
   "metadata": {},
   "outputs": [
    {
     "data": {
      "text/html": [
       "<div>\n",
       "<style scoped>\n",
       "    .dataframe tbody tr th:only-of-type {\n",
       "        vertical-align: middle;\n",
       "    }\n",
       "\n",
       "    .dataframe tbody tr th {\n",
       "        vertical-align: top;\n",
       "    }\n",
       "\n",
       "    .dataframe thead th {\n",
       "        text-align: right;\n",
       "    }\n",
       "</style>\n",
       "<table border=\"1\" class=\"dataframe\">\n",
       "  <thead>\n",
       "    <tr style=\"text-align: right;\">\n",
       "      <th></th>\n",
       "      <th>CustomerID</th>\n",
       "      <th>Age</th>\n",
       "      <th>Annual Income (k$)</th>\n",
       "      <th>Spending Score (1-100)</th>\n",
       "    </tr>\n",
       "  </thead>\n",
       "  <tbody>\n",
       "    <tr>\n",
       "      <th>count</th>\n",
       "      <td>200.000000</td>\n",
       "      <td>200.000000</td>\n",
       "      <td>200.000000</td>\n",
       "      <td>200.000000</td>\n",
       "    </tr>\n",
       "    <tr>\n",
       "      <th>mean</th>\n",
       "      <td>100.500000</td>\n",
       "      <td>38.850000</td>\n",
       "      <td>60.560000</td>\n",
       "      <td>50.200000</td>\n",
       "    </tr>\n",
       "    <tr>\n",
       "      <th>std</th>\n",
       "      <td>57.879185</td>\n",
       "      <td>13.969007</td>\n",
       "      <td>26.264721</td>\n",
       "      <td>25.823522</td>\n",
       "    </tr>\n",
       "    <tr>\n",
       "      <th>min</th>\n",
       "      <td>1.000000</td>\n",
       "      <td>18.000000</td>\n",
       "      <td>15.000000</td>\n",
       "      <td>1.000000</td>\n",
       "    </tr>\n",
       "    <tr>\n",
       "      <th>25%</th>\n",
       "      <td>50.750000</td>\n",
       "      <td>28.750000</td>\n",
       "      <td>41.500000</td>\n",
       "      <td>34.750000</td>\n",
       "    </tr>\n",
       "    <tr>\n",
       "      <th>50%</th>\n",
       "      <td>100.500000</td>\n",
       "      <td>36.000000</td>\n",
       "      <td>61.500000</td>\n",
       "      <td>50.000000</td>\n",
       "    </tr>\n",
       "    <tr>\n",
       "      <th>75%</th>\n",
       "      <td>150.250000</td>\n",
       "      <td>49.000000</td>\n",
       "      <td>78.000000</td>\n",
       "      <td>73.000000</td>\n",
       "    </tr>\n",
       "    <tr>\n",
       "      <th>max</th>\n",
       "      <td>200.000000</td>\n",
       "      <td>70.000000</td>\n",
       "      <td>137.000000</td>\n",
       "      <td>99.000000</td>\n",
       "    </tr>\n",
       "  </tbody>\n",
       "</table>\n",
       "</div>"
      ],
      "text/plain": [
       "       CustomerID         Age  Annual Income (k$)  Spending Score (1-100)\n",
       "count  200.000000  200.000000          200.000000              200.000000\n",
       "mean   100.500000   38.850000           60.560000               50.200000\n",
       "std     57.879185   13.969007           26.264721               25.823522\n",
       "min      1.000000   18.000000           15.000000                1.000000\n",
       "25%     50.750000   28.750000           41.500000               34.750000\n",
       "50%    100.500000   36.000000           61.500000               50.000000\n",
       "75%    150.250000   49.000000           78.000000               73.000000\n",
       "max    200.000000   70.000000          137.000000               99.000000"
      ]
     },
     "execution_count": 29,
     "metadata": {},
     "output_type": "execute_result"
    }
   ],
   "source": [
    "data.describe()"
   ]
  },
  {
   "cell_type": "code",
   "execution_count": 31,
   "id": "a385fffe-d68b-4086-97cb-dec7a46ef87a",
   "metadata": {},
   "outputs": [],
   "source": [
    "#obtener informacón sobre el tipo de dato y el total de valores en cada columna"
   ]
  },
  {
   "cell_type": "code",
   "execution_count": 33,
   "id": "bda2703b-54c8-4fbd-b5c1-2c16a795de68",
   "metadata": {},
   "outputs": [
    {
     "name": "stdout",
     "output_type": "stream",
     "text": [
      "<class 'pandas.core.frame.DataFrame'>\n",
      "RangeIndex: 200 entries, 0 to 199\n",
      "Data columns (total 5 columns):\n",
      " #   Column                  Non-Null Count  Dtype \n",
      "---  ------                  --------------  ----- \n",
      " 0   CustomerID              200 non-null    int64 \n",
      " 1   Gender                  200 non-null    object\n",
      " 2   Age                     200 non-null    int64 \n",
      " 3   Annual Income (k$)      200 non-null    int64 \n",
      " 4   Spending Score (1-100)  200 non-null    int64 \n",
      "dtypes: int64(4), object(1)\n",
      "memory usage: 7.9+ KB\n",
      "None\n"
     ]
    }
   ],
   "source": [
    "print(data.info())"
   ]
  },
  {
   "cell_type": "code",
   "execution_count": 35,
   "id": "b36371fd-df7e-435c-b433-d4ae1300c9ab",
   "metadata": {},
   "outputs": [],
   "source": [
    "#identificación de datos faltantes o atípicos"
   ]
  },
  {
   "cell_type": "code",
   "execution_count": 37,
   "id": "db30b50e-5d5b-4bbd-ad39-42620f839855",
   "metadata": {},
   "outputs": [
    {
     "data": {
      "text/plain": [
       "Text(0.5, 1.0, 'Identificación de Datos Faltantes y Atípicos')"
      ]
     },
     "execution_count": 37,
     "metadata": {},
     "output_type": "execute_result"
    },
    {
     "data": {
      "image/png": "[encoded data removed]",
      "text/plain": [
       "<Figure size 600x300 with 1 Axes>"
      ]
     },
     "metadata": {},
     "output_type": "display_data"
    }
   ],
   "source": [
    "plt.figure(figsize=(6,3))\n",
    "sns.boxplot(x=data['CustomerID'])#Recientes\n",
    "plt.title('Identificación de Datos Faltantes y Atípicos', fontsize=10)\n"
   ]
  },
  {
   "cell_type": "markdown",
   "id": "e0f38f6f-6d6b-4afb-89d5-86ab6be1fe03",
   "metadata": {},
   "source": [
    "2.Preprocesar los datos limpiándolos, tratando valores faltantes y \n",
    "transformándolos según sea necesario."
   ]
  },
  {
   "cell_type": "markdown",
   "id": "51adeb94-6af3-491d-a2e0-4d4ea1533357",
   "metadata": {},
   "source": [
    "Identificacion datos faltantes"
   ]
  },
  {
   "cell_type": "code",
   "execution_count": 45,
   "id": "d0207abc-f77f-4704-8441-5e01544f3c25",
   "metadata": {},
   "outputs": [],
   "source": [
    "#identificar columnas con datos faltantes \n"
   ]
  },
  {
   "cell_type": "code",
   "execution_count": 47,
   "id": "fc5315da-5780-4873-af70-ae522795e9ea",
   "metadata": {},
   "outputs": [
    {
     "name": "stdout",
     "output_type": "stream",
     "text": [
      "CustomerID                0\n",
      "Gender                    0\n",
      "Age                       0\n",
      "Annual Income (k$)        0\n",
      "Spending Score (1-100)    0\n",
      "dtype: int64\n"
     ]
    }
   ],
   "source": [
    "print (data.isnull().sum())"
   ]
  },
  {
   "cell_type": "code",
   "execution_count": 49,
   "id": "59553507-dcef-4496-abdd-6a84f8fad0dc",
   "metadata": {},
   "outputs": [],
   "source": [
    "#identificación de datos atípicos"
   ]
  },
  {
   "cell_type": "code",
   "execution_count": 57,
   "id": "660d7673-6a03-411a-bf6e-27917f916311",
   "metadata": {},
   "outputs": [
    {
     "data": {
      "text/plain": [
       "Text(0.5, 1.0, 'Identificación de Datos Faltantes y Atípicos')"
      ]
     },
     "execution_count": 57,
     "metadata": {},
     "output_type": "execute_result"
    },
    {
     "data": {
      "image/png": "[encoded data removed]",
      "text/plain": [
       "<Figure size 600x300 with 1 Axes>"
      ]
     },
     "metadata": {},
     "output_type": "display_data"
    }
   ],
   "source": [
    "plt.figure(figsize=(6,3))\n",
    "sns.boxplot(x=data['Age'])#Recientes\n",
    "plt.title('Identificación de Datos Faltantes y Atípicos', fontsize=10)"
   ]
  },
  {
   "cell_type": "code",
   "execution_count": 59,
   "id": "0618d4eb-e508-4927-ab6f-58d3cf2821a8",
   "metadata": {},
   "outputs": [],
   "source": [
    "#conteo de Datos Atípicos"
   ]
  },
  {
   "cell_type": "code",
   "execution_count": 61,
   "id": "44821bbe-fc24-475c-8d9f-8aedd676af44",
   "metadata": {},
   "outputs": [
    {
     "name": "stdout",
     "output_type": "stream",
     "text": [
      "El total de datos atipico es 190\n"
     ]
    }
   ],
   "source": [
    "nivel_minimo=0\n",
    "nivel_maximo=10\n",
    "Total_Atipicos=((data['CustomerID']<nivel_minimo)|(data['CustomerID']>nivel_maximo)).sum()\n",
    "print(\"El total de datos atipico es {}\".format(Total_Atipicos))"
   ]
  },
  {
   "cell_type": "code",
   "execution_count": 70,
   "id": "66d678d1-a320-41e5-a3b8-41b20bb7b685",
   "metadata": {},
   "outputs": [],
   "source": [
    "#filtrar Datos atipicos"
   ]
  },
  {
   "cell_type": "code",
   "execution_count": 79,
   "id": "7fc94ce4-ff1c-4888-8ea8-6f3d3e68cebb",
   "metadata": {},
   "outputs": [],
   "source": [
    "Data=data[(data['CustomerID']<nivel_maximo)&(data['CustomerID']>nivel_minimo)]"
   ]
  },
  {
   "cell_type": "code",
   "execution_count": 92,
   "id": "0d3b12b9-86d8-443e-858a-91e7acc4a4a8",
   "metadata": {},
   "outputs": [
    {
     "name": "stdout",
     "output_type": "stream",
     "text": [
      "<class 'pandas.core.frame.DataFrame'>\n",
      "Index: 9 entries, 0 to 8\n",
      "Data columns (total 5 columns):\n",
      " #   Column                  Non-Null Count  Dtype \n",
      "---  ------                  --------------  ----- \n",
      " 0   CustomerID              9 non-null      int64 \n",
      " 1   Gender                  9 non-null      object\n",
      " 2   Age                     9 non-null      int64 \n",
      " 3   Annual Income (k$)      9 non-null      int64 \n",
      " 4   Spending Score (1-100)  9 non-null      int64 \n",
      "dtypes: int64(4), object(1)\n",
      "memory usage: 432.0+ bytes\n"
     ]
    }
   ],
   "source": [
    "Data.info()"
   ]
  },
  {
   "cell_type": "markdown",
   "id": "c714ef28-04ff-4ac3-8433-38727628e4c0",
   "metadata": {},
   "source": [
    "3 seleccionar las caracteristica mas relevante para entrenar el modelo utilizando seleccion de caracteristicas"
   ]
  },
  {
   "cell_type": "code",
   "execution_count": 82,
   "id": "7cac1a44-eae7-419c-8608-f4520b6ac30f",
   "metadata": {},
   "outputs": [],
   "source": [
    "#Caracteristicas demograficas"
   ]
  },
  {
   "cell_type": "code",
   "execution_count": 175,
   "id": "9acf49a4-e857-493f-a158-8197a1ea0aa5",
   "metadata": {},
   "outputs": [],
   "source": [
    "Data1 = Data [[\"CustomerID\",\"Gender\",\"Age\",\"Annual Income (k$)\",\"Spending Score (1-100)\"]]"
   ]
  },
  {
   "cell_type": "code",
   "execution_count": 177,
   "id": "be1275cd-4496-4c7c-bfba-4d75b2722b9c",
   "metadata": {},
   "outputs": [
    {
     "data": {
      "text/html": [
       "<div>\n",
       "<style scoped>\n",
       "    .dataframe tbody tr th:only-of-type {\n",
       "        vertical-align: middle;\n",
       "    }\n",
       "\n",
       "    .dataframe tbody tr th {\n",
       "        vertical-align: top;\n",
       "    }\n",
       "\n",
       "    .dataframe thead th {\n",
       "        text-align: right;\n",
       "    }\n",
       "</style>\n",
       "<table border=\"1\" class=\"dataframe\">\n",
       "  <thead>\n",
       "    <tr style=\"text-align: right;\">\n",
       "      <th></th>\n",
       "      <th>CustomerID</th>\n",
       "      <th>Gender</th>\n",
       "      <th>Age</th>\n",
       "      <th>Annual Income (k$)</th>\n",
       "      <th>Spending Score (1-100)</th>\n",
       "    </tr>\n",
       "  </thead>\n",
       "  <tbody>\n",
       "    <tr>\n",
       "      <th>0</th>\n",
       "      <td>1</td>\n",
       "      <td>Male</td>\n",
       "      <td>19</td>\n",
       "      <td>15</td>\n",
       "      <td>39</td>\n",
       "    </tr>\n",
       "    <tr>\n",
       "      <th>1</th>\n",
       "      <td>2</td>\n",
       "      <td>Male</td>\n",
       "      <td>21</td>\n",
       "      <td>15</td>\n",
       "      <td>81</td>\n",
       "    </tr>\n",
       "    <tr>\n",
       "      <th>2</th>\n",
       "      <td>3</td>\n",
       "      <td>Female</td>\n",
       "      <td>20</td>\n",
       "      <td>16</td>\n",
       "      <td>6</td>\n",
       "    </tr>\n",
       "    <tr>\n",
       "      <th>3</th>\n",
       "      <td>4</td>\n",
       "      <td>Female</td>\n",
       "      <td>23</td>\n",
       "      <td>16</td>\n",
       "      <td>77</td>\n",
       "    </tr>\n",
       "    <tr>\n",
       "      <th>4</th>\n",
       "      <td>5</td>\n",
       "      <td>Female</td>\n",
       "      <td>31</td>\n",
       "      <td>17</td>\n",
       "      <td>40</td>\n",
       "    </tr>\n",
       "    <tr>\n",
       "      <th>5</th>\n",
       "      <td>6</td>\n",
       "      <td>Female</td>\n",
       "      <td>22</td>\n",
       "      <td>17</td>\n",
       "      <td>76</td>\n",
       "    </tr>\n",
       "    <tr>\n",
       "      <th>6</th>\n",
       "      <td>7</td>\n",
       "      <td>Female</td>\n",
       "      <td>35</td>\n",
       "      <td>18</td>\n",
       "      <td>6</td>\n",
       "    </tr>\n",
       "    <tr>\n",
       "      <th>7</th>\n",
       "      <td>8</td>\n",
       "      <td>Female</td>\n",
       "      <td>23</td>\n",
       "      <td>18</td>\n",
       "      <td>94</td>\n",
       "    </tr>\n",
       "    <tr>\n",
       "      <th>8</th>\n",
       "      <td>9</td>\n",
       "      <td>Male</td>\n",
       "      <td>64</td>\n",
       "      <td>19</td>\n",
       "      <td>3</td>\n",
       "    </tr>\n",
       "  </tbody>\n",
       "</table>\n",
       "</div>"
      ],
      "text/plain": [
       "   CustomerID  Gender  Age  Annual Income (k$)  Spending Score (1-100)\n",
       "0           1    Male   19                  15                      39\n",
       "1           2    Male   21                  15                      81\n",
       "2           3  Female   20                  16                       6\n",
       "3           4  Female   23                  16                      77\n",
       "4           5  Female   31                  17                      40\n",
       "5           6  Female   22                  17                      76\n",
       "6           7  Female   35                  18                       6\n",
       "7           8  Female   23                  18                      94\n",
       "8           9    Male   64                  19                       3"
      ]
     },
     "execution_count": 177,
     "metadata": {},
     "output_type": "execute_result"
    }
   ],
   "source": [
    "#Revicion de los datos de las variables objetivo\n",
    "Data1.head(40)"
   ]
  },
  {
   "cell_type": "code",
   "execution_count": 181,
   "id": "432f6108-9129-444c-9918-bf66e379812a",
   "metadata": {},
   "outputs": [
    {
     "data": {
      "image/png": "[encoded data removed]",
      "text/plain": [
       "<Figure size 600x300 with 1 Axes>"
      ]
     },
     "metadata": {},
     "output_type": "display_data"
    }
   ],
   "source": [
    "# Grafica antes del agrupamiento\n",
    "\n",
    "plt.figure(figsize = (6,3))\n",
    "sns.scatterplot(x=data['Spending Score (1-100)'],y=data['Annual Income (k$)'])\n",
    "plt.title('Distribucion de puntuacion de gastos e ingresos anuales')\n",
    "plt.xlabel('Spending Score (1-100)')\n",
    "plt.ylabel('Annual Income (k$)')\n",
    "plt.show()"
   ]
  },
  {
   "cell_type": "markdown",
   "id": "54ce3f74-8db8-47ef-8002-326418dff7c9",
   "metadata": {},
   "source": [
    "4 Entrenar el modelo configurando los diferentes parametros"
   ]
  },
  {
   "cell_type": "code",
   "execution_count": 173,
   "id": "0fcd0465-b34f-41cf-8a97-1152424fda72",
   "metadata": {},
   "outputs": [
    {
     "name": "stdout",
     "output_type": "stream",
     "text": [
      "   CustomerID  Gender  Age  Annual Income (k$)  Spending Score (1-100)\n",
      "0           1    Male   19                  15                      39\n",
      "1           2    Male   21                  15                      81\n",
      "2           3  Female   20                  16                       6\n",
      "3           4  Female   23                  16                      77\n",
      "4           5  Female   31                  17                      40\n"
     ]
    }
   ],
   "source": [
    "print(Data.head())"
   ]
  },
  {
   "cell_type": "code",
   "execution_count": 185,
   "id": "5427801e-cc69-4901-80f6-524962a6bfff",
   "metadata": {},
   "outputs": [
    {
     "name": "stdout",
     "output_type": "stream",
     "text": [
      "Index(['CustomerID', 'Gender', 'Age', 'Annual Income (k$)',\n",
      "       'Spending Score (1-100)'],\n",
      "      dtype='object')\n"
     ]
    }
   ],
   "source": [
    "print(Data.columns)"
   ]
  },
  {
   "cell_type": "code",
   "execution_count": 187,
   "id": "93a29fdc-e58b-4f73-b28c-5bd013bb94df",
   "metadata": {},
   "outputs": [],
   "source": [
    "Data.columns = Data.columns.str.strip()"
   ]
  },
  {
   "cell_type": "code",
   "execution_count": 191,
   "id": "248bf1d3-7964-45f3-ab71-78d4693101d8",
   "metadata": {},
   "outputs": [],
   "source": [
    "from sklearn.preprocessing import LabelEncoder\n",
    "Data[\"Gender\"] = LabelEncoder().fit_transform(Data[\"Gender\"])"
   ]
  },
  {
   "cell_type": "code",
   "execution_count": 203,
   "id": "3f2be582-23b6-4acd-b86a-c4f2adf6ac96",
   "metadata": {},
   "outputs": [],
   "source": [
    "scaler = StandardScaler()\n",
    "scaled_data = scaler.fit_transform(Data[[\"CustomerID\",\"Gender\",\"Age\",\"Annual Income (k$)\",\"Spending Score (1-100)\"]])"
   ]
  },
  {
   "cell_type": "code",
   "execution_count": 205,
   "id": "9f468417-7872-4aa9-9a18-ff396e20847e",
   "metadata": {},
   "outputs": [],
   "source": [
    "#evaluamos el scaled_data"
   ]
  },
  {
   "cell_type": "code",
   "execution_count": 217,
   "id": "dd7f716e-d434-4bb3-9793-af6fda719d85",
   "metadata": {},
   "outputs": [],
   "source": [
    "linked = linkage(scaled_data, method='ward')"
   ]
  },
  {
   "cell_type": "code",
   "execution_count": 223,
   "id": "d13dec07-e0d2-418c-98ed-48f35958d836",
   "metadata": {},
   "outputs": [
    {
     "data": {
      "image/png": "[encoded data removed]",
      "text/plain": [
       "<Figure size 1000x700 with 1 Axes>"
      ]
     },
     "metadata": {},
     "output_type": "display_data"
    }
   ],
   "source": [
    "plt.figure(figsize=(10,7))\n",
    "dendrogram(linked,orientation='top',distance_sort='descending',show_leaf_counts=False)\n",
    "plt.title('Dendrograma Para Clustering Jerarqico')\n",
    "plt.xlabel('Muestras')\n",
    "plt.ylabel('Distancia')\n",
    "plt.show()"
   ]
  },
  {
   "cell_type": "code",
   "execution_count": 239,
   "id": "41b45033-9d3c-46b6-9215-5c40efd30eb2",
   "metadata": {},
   "outputs": [],
   "source": [
    "#entrenamiento del modelo de Clustering Jerarquico"
   ]
  },
  {
   "cell_type": "code",
   "execution_count": 241,
   "id": "db87d5ea-0855-4a6c-87dc-52d1d1bede7d",
   "metadata": {},
   "outputs": [],
   "source": [
    "model = AgglomerativeClustering(n_clusters=3, linkage='ward')\n",
    "labels = model.fit_predict(scaled_data)"
   ]
  },
  {
   "cell_type": "markdown",
   "id": "261a55a3-ff91-4b83-a3bc-28545a7921c6",
   "metadata": {},
   "source": [
    "5. Evaluar el desempeño del modelo con métricas como \n",
    "Coeficiente de Silhouette, Índice de Calinski-Harabasz, etc"
   ]
  },
  {
   "cell_type": "code",
   "execution_count": 245,
   "id": "c300054d-4e9a-47c2-a5a6-a0bffdbfdb7b",
   "metadata": {},
   "outputs": [],
   "source": [
    "#indice de calinski-harabasz"
   ]
  },
  {
   "cell_type": "code",
   "execution_count": 243,
   "id": "66351bd6-771e-43fe-b9a4-f435da639bb9",
   "metadata": {},
   "outputs": [
    {
     "name": "stdout",
     "output_type": "stream",
     "text": [
      "indice calinski-harabasz: 7.379593476270256\n"
     ]
    }
   ],
   "source": [
    "ch_score = calinski_harabasz_score(scaled_data, labels)\n",
    "print(f\"indice calinski-harabasz: {ch_score}\")"
   ]
  },
  {
   "cell_type": "markdown",
   "id": "ac4a16de-801e-4314-a62e-215af55792d5",
   "metadata": {},
   "source": [
    "6. Realizar las diferentes gráficas que permitan visualizar los \n",
    "resultados del modelo"
   ]
  },
  {
   "cell_type": "markdown",
   "id": "77f1ce42-47f4-4368-ac01-6aa42fecdb11",
   "metadata": {},
   "source": [
    "Grafico de dispersion para visualización de clusters"
   ]
  },
  {
   "cell_type": "code",
   "execution_count": 253,
   "id": "71bcbf02-0071-4e99-a739-ce91a37be1cb",
   "metadata": {},
   "outputs": [],
   "source": [
    "from sklearn.cluster import AgglomerativeClustering\n",
    "import matplotlib.pyplot as plt"
   ]
  },
  {
   "cell_type": "code",
   "execution_count": 255,
   "id": "d37cd7be-f061-412f-8229-7f5d555ec342",
   "metadata": {},
   "outputs": [],
   "source": [
    "#Aplicar el modelo de clustering jerarquico "
   ]
  },
  {
   "cell_type": "code",
   "execution_count": null,
   "id": "5f88d282-170b-46dd-85c8-22bcddc1638e",
   "metadata": {},
   "outputs": [],
   "source": [
    "model = AgglomerativeClustering(n_clusters=4)\n",
    "Datos1['Cluster'] = model.fit_predict(scaled_data)\n",
    "plt.figure(figsize=(8,6))\n",
    "plt.scatter(Datos['Age'],Datos["
   ]
  }
 ],
 "metadata": {
  "kernelspec": {
   "display_name": "Python 3 (ipykernel)",
   "language": "python",
   "name": "python3"
  },
  "language_info": {
   "codemirror_mode": {
    "name": "ipython",
    "version": 3
   },
   "file_extension": ".py",
   "mimetype": "text/x-python",
   "name": "python",
   "nbconvert_exporter": "python",
   "pygments_lexer": "ipython3",
   "version": "3.12.7"
  }
 },
 "nbformat": 4,
 "nbformat_minor": 5
}
